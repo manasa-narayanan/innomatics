{
 "cells": [
  {
   "cell_type": "code",
   "execution_count": 26,
   "id": "e4d4c8ac-300a-46d0-8357-791ccab10332",
   "metadata": {},
   "outputs": [
    {
     "name": "stdout",
     "output_type": "stream",
     "text": [
      "Folder exists: C:\\Users\\Manu\\Innomatics\n",
      "CSV files found: ['C:\\\\Users\\\\Manu\\\\Innomatics\\\\Akshayanagar.csv', 'C:\\\\Users\\\\Manu\\\\Innomatics\\\\Arekere.csv', 'C:\\\\Users\\\\Manu\\\\Innomatics\\\\Banashankari.csv', 'C:\\\\Users\\\\Manu\\\\Innomatics\\\\Basavanagudi.csv', 'C:\\\\Users\\\\Manu\\\\Innomatics\\\\Basaveshwar Nagar.csv', 'C:\\\\Users\\\\Manu\\\\Innomatics\\\\Begur.csv', 'C:\\\\Users\\\\Manu\\\\Innomatics\\\\Bellandur.csv', 'C:\\\\Users\\\\Manu\\\\Innomatics\\\\Bilekahalli.csv', 'C:\\\\Users\\\\Manu\\\\Innomatics\\\\Bommanahalli.csv', 'C:\\\\Users\\\\Manu\\\\Innomatics\\\\Brookefield.csv', 'C:\\\\Users\\\\Manu\\\\Innomatics\\\\BTM 2nd Stage.csv', 'C:\\\\Users\\\\Manu\\\\Innomatics\\\\BTM_Layout.csv', 'C:\\\\Users\\\\Manu\\\\Innomatics\\\\Chikkalasandra.csv', 'C:\\\\Users\\\\Manu\\\\Innomatics\\\\Doddanekundi.csv', 'C:\\\\Users\\\\Manu\\\\Innomatics\\\\Ejipura.csv', 'C:\\\\Users\\\\Manu\\\\Innomatics\\\\Electronic City.csv', 'C:\\\\Users\\\\Manu\\\\Innomatics\\\\Electronics City Phase 1.csv', 'C:\\\\Users\\\\Manu\\\\Innomatics\\\\Gottigere.csv', 'C:\\\\Users\\\\Manu\\\\Innomatics\\\\HBR Layout.csv', 'C:\\\\Users\\\\Manu\\\\Innomatics\\\\Hebbal.csv', 'C:\\\\Users\\\\Manu\\\\Innomatics\\\\Hongasandra.csv', 'C:\\\\Users\\\\Manu\\\\Innomatics\\\\Hoodi.csv', 'C:\\\\Users\\\\Manu\\\\Innomatics\\\\Horamavu.csv', 'C:\\\\Users\\\\Manu\\\\Innomatics\\\\Hosakerehalli.csv', 'C:\\\\Users\\\\Manu\\\\Innomatics\\\\HSR_Layout.csv', 'C:\\\\Users\\\\Manu\\\\Innomatics\\\\Hulimavu.csv', 'C:\\\\Users\\\\Manu\\\\Innomatics\\\\Indiranagar.csv', 'C:\\\\Users\\\\Manu\\\\Innomatics\\\\Jayanagar.csv', 'C:\\\\Users\\\\Manu\\\\Innomatics\\\\JP Nagar.csv', 'C:\\\\Users\\\\Manu\\\\Innomatics\\\\K.R Puram.csv', 'C:\\\\Users\\\\Manu\\\\Innomatics\\\\Kadugodi.csv', 'C:\\\\Users\\\\Manu\\\\Innomatics\\\\Kaggadasapura.csv', 'C:\\\\Users\\\\Manu\\\\Innomatics\\\\Kalyan Nagar.csv', 'C:\\\\Users\\\\Manu\\\\Innomatics\\\\Kammanahalli.csv', 'C:\\\\Users\\\\Manu\\\\Innomatics\\\\Kasavanahalli.csv', 'C:\\\\Users\\\\Manu\\\\Innomatics\\\\Kengeri Satellite Town.csv', 'C:\\\\Users\\\\Manu\\\\Innomatics\\\\Kengeri.csv', 'C:\\\\Users\\\\Manu\\\\Innomatics\\\\Konanakunte.csv', 'C:\\\\Users\\\\Manu\\\\Innomatics\\\\Koramangala.csv', 'C:\\\\Users\\\\Manu\\\\Innomatics\\\\Krishnarajapura.csv', 'C:\\\\Users\\\\Manu\\\\Innomatics\\\\Kumaraswamy Layout.csv', 'C:\\\\Users\\\\Manu\\\\Innomatics\\\\Lingarajapuram.csv', 'C:\\\\Users\\\\Manu\\\\Innomatics\\\\Mahadevapura.csv', 'C:\\\\Users\\\\Manu\\\\Innomatics\\\\Marathahalli.csv', 'C:\\\\Users\\\\Manu\\\\Innomatics\\\\Mathikere.csv', 'C:\\\\Users\\\\Manu\\\\Innomatics\\\\Munnekollal.csv', 'C:\\\\Users\\\\Manu\\\\Innomatics\\\\Nagarbhavi.csv', 'C:\\\\Users\\\\Manu\\\\Innomatics\\\\Padmanabhanagar.csv', 'C:\\\\Users\\\\Manu\\\\Innomatics\\\\Raja Rajeshwari Nagar.csv', 'C:\\\\Users\\\\Manu\\\\Innomatics\\\\Rajaji Nagar.csv', 'C:\\\\Users\\\\Manu\\\\Innomatics\\\\Ramamurthy Nagar.csv', 'C:\\\\Users\\\\Manu\\\\Innomatics\\\\RR Nagar.csv', 'C:\\\\Users\\\\Manu\\\\Innomatics\\\\RT Nagar.csv', 'C:\\\\Users\\\\Manu\\\\Innomatics\\\\Singasandra.csv', 'C:\\\\Users\\\\Manu\\\\Innomatics\\\\Subramanyapura.csv', 'C:\\\\Users\\\\Manu\\\\Innomatics\\\\Sunkadakatte.csv', 'C:\\\\Users\\\\Manu\\\\Innomatics\\\\Thanisandra.csv', 'C:\\\\Users\\\\Manu\\\\Innomatics\\\\Uttarahalli Hobli.csv', 'C:\\\\Users\\\\Manu\\\\Innomatics\\\\Varthur.csv', 'C:\\\\Users\\\\Manu\\\\Innomatics\\\\Vidyaranyapura.csv', 'C:\\\\Users\\\\Manu\\\\Innomatics\\\\Vijaya Nagar.csv', 'C:\\\\Users\\\\Manu\\\\Innomatics\\\\Whitefield.csv', 'C:\\\\Users\\\\Manu\\\\Innomatics\\\\Yelahanka New Town.csv', 'C:\\\\Users\\\\Manu\\\\Innomatics\\\\Yelahanka.csv']\n",
      "Combined Data Shape: (14532, 24)\n",
      "Combined data saved to: C:\\Users\\Manu\\Innomatics\\combined_data.csv\n"
     ]
    }
   ],
   "source": [
    "import pandas as pd\n",
    "from glob import glob\n",
    "import os\n",
    "\n",
    "# Specify the folder containing the CSV files\n",
    "folder_path = r\"C:\\Users\\Manu\\Innomatics\"\n",
    "\n",
    "# Check if the folder exists and list files\n",
    "if os.path.exists(folder_path):\n",
    "    print(f\"Folder exists: {folder_path}\")\n",
    "else:\n",
    "    print(f\"Folder does not exist: {folder_path}\")\n",
    "\n",
    "# Get all CSV file paths in the folder\n",
    "csv_files = glob(os.path.join(folder_path, \"*.csv\"))\n",
    "print(f\"CSV files found: {csv_files}\")\n",
    "\n",
    "# Ensure there are files to process\n",
    "if len(csv_files) == 0:\n",
    "    print(\"No CSV files found. Please check the folder path or file extensions.\")\n",
    "else:\n",
    "    # Read and merge all CSV files with a specified encoding to handle potential Unicode errors\n",
    "    data_frames = [pd.read_csv(file, encoding='ISO-8859-1') for file in csv_files]  # You can try 'utf-16' if needed\n",
    "    combined_data = pd.concat(data_frames, ignore_index=True)\n",
    "    \n",
    "    # Display the shape of the combined data\n",
    "    print(f\"Combined Data Shape: {combined_data.shape}\")\n",
    "    \n",
    "    # Save the combined data to a new file\n",
    "    output_path = os.path.join(folder_path, \"combined_data.csv\")\n",
    "    combined_data.to_csv(output_path, index=False)\n",
    "    print(f\"Combined data saved to: {output_path}\")\n"
   ]
  },
  {
   "cell_type": "code",
   "execution_count": 28,
   "id": "3b4f5d93-5b18-47d7-b060-612c964d28fc",
   "metadata": {},
   "outputs": [
    {
     "name": "stdout",
     "output_type": "stream",
     "text": [
      "Columns in the dataset:\n",
      "Index(['property_id', 'photo_urls'], dtype='object')\n",
      "                                          photo_urls  photo_count\n",
      "0  [{\\title\\\":\\\"Balcony\\\",\\\"name\\\":\\\"IMG_20131006...           49\n",
      "1                                                NaN            0\n",
      "2  [{\\title\\\":\\\"Bedroom\\\",\\\"name\\\":\\\"ff808081470c...           84\n",
      "3  [{\\title\\\":\\\"Bedroom\\\",\\\"name\\\":\\\"Screenshot_7...           63\n",
      "4  [{\\title\\\":\\\"Other\\\",\\\"name\\\":\\\"ff808081474aa8...           49\n",
      "Cleaned data saved to: C:\\Users\\Manu\\Downloads\\cleaned_property_photos.tsv\n"
     ]
    }
   ],
   "source": [
    "import pandas as pd\n",
    "\n",
    "# Load the TSV file\n",
    "file_path = r\"C:\\Users\\Manu\\Downloads\\property_photos.tsv\"\n",
    "property_data = pd.read_csv(file_path, delimiter='\\t')\n",
    "\n",
    "# Check the columns of the loaded data\n",
    "print(\"Columns in the dataset:\")\n",
    "print(property_data.columns)\n",
    "\n",
    "# Check if 'photo_urls' or a similar column exists\n",
    "if 'photo_urls' in property_data.columns:\n",
    "    # Function to extract the number of photos\n",
    "    def extract_photo_count(photo_urls):\n",
    "        if pd.isna(photo_urls):\n",
    "            return 0\n",
    "        return len(photo_urls.split(','))\n",
    "\n",
    "    # Apply the function to the 'photo_urls' column\n",
    "    property_data['photo_count'] = property_data['photo_urls'].apply(extract_photo_count)\n",
    "\n",
    "    # Display the cleaned data (new 'photo_count' column)\n",
    "    print(property_data[['photo_urls', 'photo_count']].head())\n",
    "else:\n",
    "    print(\"'photo_urls' column not found. Available columns are:\", property_data.columns)\n",
    "\n",
    "# Optionally, save the cleaned data back to a file\n",
    "output_path = r\"C:\\Users\\Manu\\Downloads\\cleaned_property_photos.tsv\"\n",
    "property_data.to_csv(output_path, sep='\\t', index=False)\n",
    "print(f\"Cleaned data saved to: {output_path}\")\n",
    "\n"
   ]
  },
  {
   "cell_type": "code",
   "execution_count": 30,
   "id": "a8db3057-614b-4c5e-bcdc-b62cdebb5b76",
   "metadata": {},
   "outputs": [
    {
     "name": "stdout",
     "output_type": "stream",
     "text": [
      "\n",
      "Columns in property_interactions dataset:\n",
      "Index(['property_id', 'request_date'], dtype='object')\n",
      "\n",
      "First few rows of property_interactions:\n",
      "                        property_id         request_date\n",
      "0  ff808081469fd6e20146a5af948000ea  2017-03-10 17:42:34\n",
      "1  ff808081469fd6e20146a5af948000ea  2017-03-09 15:51:17\n",
      "2  ff808081469fd6e20146a5af948000ea  2017-03-10 17:30:22\n",
      "3  ff808081469fd6e20146a5af948000ea  2017-03-11 17:48:46\n",
      "4  ff8080814702d3d10147068359d200cd  2017-03-30 19:59:15\n"
     ]
    }
   ],
   "source": [
    "import pandas as pd\n",
    "\n",
    "# File paths\n",
    "photo_file_path = r\"C:\\Users\\Manu\\Downloads\\cleaned_property_photos.tsv\"\n",
    "interactions_file_path = r\"C:\\Users\\Manu\\Downloads\\property_interactions.csv\"  # Assuming CSV format for interactions\n",
    "\n",
    "# Step 1: Load the cleaned property photos dataset\n",
    "property_photos = pd.read_csv(photo_file_path, delimiter='\\t')\n",
    "\n",
    "# Step 2: Load the property interactions dataset\n",
    "property_interactions = pd.read_csv(interactions_file_path)\n",
    "\n",
    "# Print columns of the property_interactions dataset\n",
    "print(\"\\nColumns in property_interactions dataset:\")\n",
    "print(property_interactions.columns)\n",
    "\n",
    "# Now, inspect the first few rows to better understand the data\n",
    "print(\"\\nFirst few rows of property_interactions:\")\n",
    "print(property_interactions.head())\n",
    "\n"
   ]
  },
  {
   "cell_type": "code",
   "execution_count": null,
   "id": "0c78d73b-581d-48ee-b836-ddc391b765d2",
   "metadata": {},
   "outputs": [],
   "source": []
  }
 ],
 "metadata": {
  "kernelspec": {
   "display_name": "Python 3 (ipykernel)",
   "language": "python",
   "name": "python3"
  },
  "language_info": {
   "codemirror_mode": {
    "name": "ipython",
    "version": 3
   },
   "file_extension": ".py",
   "mimetype": "text/x-python",
   "name": "python",
   "nbconvert_exporter": "python",
   "pygments_lexer": "ipython3",
   "version": "3.12.2"
  }
 },
 "nbformat": 4,
 "nbformat_minor": 5
}
